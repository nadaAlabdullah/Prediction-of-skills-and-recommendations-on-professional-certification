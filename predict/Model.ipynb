{
 "cells": [
  {
   "cell_type": "markdown",
   "id": "50932cc9-1669-473f-8cd3-66228ad71736",
   "metadata": {},
   "source": [
    "# **Machine Learning Model**"
   ]
  },
  {
   "cell_type": "code",
   "execution_count": 1,
   "id": "bc9e5468-cf0c-4e78-b952-ebed0a922d7f",
   "metadata": {},
   "outputs": [],
   "source": [
    "import pandas as pd\n",
    "import numpy as np\n",
    "from sklearn.model_selection import train_test_split\n",
    "from sklearn.metrics import accuracy_score"
   ]
  },
  {
   "cell_type": "markdown",
   "id": "d5d9d693-aaa6-4e91-a74f-621c7796dd0d",
   "metadata": {},
   "source": [
    "**How many skills do we want to predict?**"
   ]
  },
  {
   "cell_type": "code",
   "execution_count": 2,
   "id": "0e4c6f3f-828c-433a-ba27-c17bf255e055",
   "metadata": {},
   "outputs": [],
   "source": [
    "give=30"
   ]
  },
  {
   "cell_type": "markdown",
   "id": "bc65ef40-8b85-46a6-b904-589ee04caa12",
   "metadata": {},
   "source": [
    "**Data processing**"
   ]
  },
  {
   "cell_type": "code",
   "execution_count": 3,
   "id": "4161bd63-5a41-41be-a991-c3b56b082d55",
   "metadata": {
    "tags": []
   },
   "outputs": [
    {
     "data": {
      "text/html": [
       "<div>\n",
       "<style scoped>\n",
       "    .dataframe tbody tr th:only-of-type {\n",
       "        vertical-align: middle;\n",
       "    }\n",
       "\n",
       "    .dataframe tbody tr th {\n",
       "        vertical-align: top;\n",
       "    }\n",
       "\n",
       "    .dataframe thead th {\n",
       "        text-align: right;\n",
       "    }\n",
       "</style>\n",
       "<table border=\"1\" class=\"dataframe\">\n",
       "  <thead>\n",
       "    <tr style=\"text-align: right;\">\n",
       "      <th></th>\n",
       "      <th>Unnamed: 0</th>\n",
       "      <th>skills_list</th>\n",
       "      <th>count</th>\n",
       "      <th>rate</th>\n",
       "      <th>skills_list_catogrised</th>\n",
       "    </tr>\n",
       "  </thead>\n",
       "  <tbody>\n",
       "    <tr>\n",
       "      <th>0</th>\n",
       "      <td>0</td>\n",
       "      <td>.NET Framework</td>\n",
       "      <td>6</td>\n",
       "      <td>0.009441</td>\n",
       "      <td>0</td>\n",
       "    </tr>\n",
       "    <tr>\n",
       "      <th>1</th>\n",
       "      <td>1</td>\n",
       "      <td>.NET Framework 4</td>\n",
       "      <td>5</td>\n",
       "      <td>0.007553</td>\n",
       "      <td>1</td>\n",
       "    </tr>\n",
       "    <tr>\n",
       "      <th>2</th>\n",
       "      <td>2</td>\n",
       "      <td>5G Technology</td>\n",
       "      <td>2</td>\n",
       "      <td>0.001888</td>\n",
       "      <td>2</td>\n",
       "    </tr>\n",
       "    <tr>\n",
       "      <th>3</th>\n",
       "      <td>3</td>\n",
       "      <td>AAA Server (Authentication Authorization And A...</td>\n",
       "      <td>1</td>\n",
       "      <td>0.000000</td>\n",
       "      <td>3</td>\n",
       "    </tr>\n",
       "    <tr>\n",
       "      <th>4</th>\n",
       "      <td>4</td>\n",
       "      <td>ADO.NET (Programming Language)</td>\n",
       "      <td>5</td>\n",
       "      <td>0.007553</td>\n",
       "      <td>4</td>\n",
       "    </tr>\n",
       "    <tr>\n",
       "      <th>...</th>\n",
       "      <td>...</td>\n",
       "      <td>...</td>\n",
       "      <td>...</td>\n",
       "      <td>...</td>\n",
       "      <td>...</td>\n",
       "    </tr>\n",
       "    <tr>\n",
       "      <th>1182</th>\n",
       "      <td>1182</td>\n",
       "      <td>Xgboost</td>\n",
       "      <td>2</td>\n",
       "      <td>0.001888</td>\n",
       "      <td>1182</td>\n",
       "    </tr>\n",
       "    <tr>\n",
       "      <th>1183</th>\n",
       "      <td>1183</td>\n",
       "      <td>YAML</td>\n",
       "      <td>1</td>\n",
       "      <td>0.000000</td>\n",
       "      <td>1183</td>\n",
       "    </tr>\n",
       "    <tr>\n",
       "      <th>1184</th>\n",
       "      <td>1184</td>\n",
       "      <td>Zabbix</td>\n",
       "      <td>2</td>\n",
       "      <td>0.001888</td>\n",
       "      <td>1184</td>\n",
       "    </tr>\n",
       "    <tr>\n",
       "      <th>1185</th>\n",
       "      <td>1185</td>\n",
       "      <td>Zebra Printers</td>\n",
       "      <td>2</td>\n",
       "      <td>0.001888</td>\n",
       "      <td>1185</td>\n",
       "    </tr>\n",
       "    <tr>\n",
       "      <th>1186</th>\n",
       "      <td>1186</td>\n",
       "      <td>Zoom Rooms</td>\n",
       "      <td>32</td>\n",
       "      <td>0.058535</td>\n",
       "      <td>1186</td>\n",
       "    </tr>\n",
       "  </tbody>\n",
       "</table>\n",
       "<p>1187 rows × 5 columns</p>\n",
       "</div>"
      ],
      "text/plain": [
       "      Unnamed: 0                                        skills_list  count  \\\n",
       "0              0                                     .NET Framework      6   \n",
       "1              1                                   .NET Framework 4      5   \n",
       "2              2                                      5G Technology      2   \n",
       "3              3  AAA Server (Authentication Authorization And A...      1   \n",
       "4              4                     ADO.NET (Programming Language)      5   \n",
       "...          ...                                                ...    ...   \n",
       "1182        1182                                            Xgboost      2   \n",
       "1183        1183                                               YAML      1   \n",
       "1184        1184                                             Zabbix      2   \n",
       "1185        1185                                     Zebra Printers      2   \n",
       "1186        1186                                         Zoom Rooms     32   \n",
       "\n",
       "          rate  skills_list_catogrised  \n",
       "0     0.009441                       0  \n",
       "1     0.007553                       1  \n",
       "2     0.001888                       2  \n",
       "3     0.000000                       3  \n",
       "4     0.007553                       4  \n",
       "...        ...                     ...  \n",
       "1182  0.001888                    1182  \n",
       "1183  0.000000                    1183  \n",
       "1184  0.001888                    1184  \n",
       "1185  0.001888                    1185  \n",
       "1186  0.058535                    1186  \n",
       "\n",
       "[1187 rows x 5 columns]"
      ]
     },
     "execution_count": 3,
     "metadata": {},
     "output_type": "execute_result"
    }
   ],
   "source": [
    "data = pd.read_csv('files/soft_final.csv')\n",
    "data2= pd.read_csv('files/soft_final.csv')\n",
    "\n",
    "#data = pd.read_csv('files/hard_final.csv')\n",
    "#data2= pd.read_csv('files/hard_final.csv')\n",
    "\n",
    "data"
   ]
  },
  {
   "cell_type": "code",
   "execution_count": 4,
   "id": "bf4fa5f5-3fbd-4aef-9e6c-06df67c653aa",
   "metadata": {
    "tags": []
   },
   "outputs": [
    {
     "data": {
      "text/html": [
       "<div>\n",
       "<style scoped>\n",
       "    .dataframe tbody tr th:only-of-type {\n",
       "        vertical-align: middle;\n",
       "    }\n",
       "\n",
       "    .dataframe tbody tr th {\n",
       "        vertical-align: top;\n",
       "    }\n",
       "\n",
       "    .dataframe thead th {\n",
       "        text-align: right;\n",
       "    }\n",
       "</style>\n",
       "<table border=\"1\" class=\"dataframe\">\n",
       "  <thead>\n",
       "    <tr style=\"text-align: right;\">\n",
       "      <th></th>\n",
       "      <th>count</th>\n",
       "      <th>rate</th>\n",
       "      <th>skills_list_catogrised</th>\n",
       "    </tr>\n",
       "  </thead>\n",
       "  <tbody>\n",
       "    <tr>\n",
       "      <th>0</th>\n",
       "      <td>6</td>\n",
       "      <td>0.009441</td>\n",
       "      <td>0</td>\n",
       "    </tr>\n",
       "    <tr>\n",
       "      <th>1</th>\n",
       "      <td>5</td>\n",
       "      <td>0.007553</td>\n",
       "      <td>1</td>\n",
       "    </tr>\n",
       "    <tr>\n",
       "      <th>2</th>\n",
       "      <td>2</td>\n",
       "      <td>0.001888</td>\n",
       "      <td>2</td>\n",
       "    </tr>\n",
       "    <tr>\n",
       "      <th>3</th>\n",
       "      <td>1</td>\n",
       "      <td>0.000000</td>\n",
       "      <td>3</td>\n",
       "    </tr>\n",
       "    <tr>\n",
       "      <th>4</th>\n",
       "      <td>5</td>\n",
       "      <td>0.007553</td>\n",
       "      <td>4</td>\n",
       "    </tr>\n",
       "    <tr>\n",
       "      <th>...</th>\n",
       "      <td>...</td>\n",
       "      <td>...</td>\n",
       "      <td>...</td>\n",
       "    </tr>\n",
       "    <tr>\n",
       "      <th>1182</th>\n",
       "      <td>2</td>\n",
       "      <td>0.001888</td>\n",
       "      <td>1182</td>\n",
       "    </tr>\n",
       "    <tr>\n",
       "      <th>1183</th>\n",
       "      <td>1</td>\n",
       "      <td>0.000000</td>\n",
       "      <td>1183</td>\n",
       "    </tr>\n",
       "    <tr>\n",
       "      <th>1184</th>\n",
       "      <td>2</td>\n",
       "      <td>0.001888</td>\n",
       "      <td>1184</td>\n",
       "    </tr>\n",
       "    <tr>\n",
       "      <th>1185</th>\n",
       "      <td>2</td>\n",
       "      <td>0.001888</td>\n",
       "      <td>1185</td>\n",
       "    </tr>\n",
       "    <tr>\n",
       "      <th>1186</th>\n",
       "      <td>32</td>\n",
       "      <td>0.058535</td>\n",
       "      <td>1186</td>\n",
       "    </tr>\n",
       "  </tbody>\n",
       "</table>\n",
       "<p>1187 rows × 3 columns</p>\n",
       "</div>"
      ],
      "text/plain": [
       "      count      rate  skills_list_catogrised\n",
       "0         6  0.009441                       0\n",
       "1         5  0.007553                       1\n",
       "2         2  0.001888                       2\n",
       "3         1  0.000000                       3\n",
       "4         5  0.007553                       4\n",
       "...     ...       ...                     ...\n",
       "1182      2  0.001888                    1182\n",
       "1183      1  0.000000                    1183\n",
       "1184      2  0.001888                    1184\n",
       "1185      2  0.001888                    1185\n",
       "1186     32  0.058535                    1186\n",
       "\n",
       "[1187 rows x 3 columns]"
      ]
     },
     "execution_count": 4,
     "metadata": {},
     "output_type": "execute_result"
    }
   ],
   "source": [
    "data = data.drop(columns=[\"Unnamed: 0\",\"skills_list\"])\n",
    "data"
   ]
  },
  {
   "cell_type": "markdown",
   "id": "d0e5a9b8-39fd-49e2-abfc-e833e81f15cd",
   "metadata": {},
   "source": [
    "**Y (RATE)**"
   ]
  },
  {
   "cell_type": "code",
   "execution_count": 5,
   "id": "4057ea38-16f5-4340-8118-0011825aa67b",
   "metadata": {},
   "outputs": [],
   "source": [
    "y=data['rate'].values.tolist()\n",
    "y = np.array(y)\n",
    "data.drop(columns=[\"rate\"],inplace=True)"
   ]
  },
  {
   "cell_type": "markdown",
   "id": "698f9e36-6809-401b-97e3-b198527a3f30",
   "metadata": {},
   "source": [
    "**X (Count & Skill name)**"
   ]
  },
  {
   "cell_type": "code",
   "execution_count": 6,
   "id": "f0a23f84-fede-453b-9426-600d2c977a23",
   "metadata": {},
   "outputs": [
    {
     "name": "stdout",
     "output_type": "stream",
     "text": [
      "(1187, 2)\n"
     ]
    }
   ],
   "source": [
    "x=data.to_numpy()\n",
    "print(x.shape)"
   ]
  },
  {
   "cell_type": "code",
   "execution_count": 7,
   "id": "3ca4f1f1-f992-4ec5-93a4-7638d67a8133",
   "metadata": {},
   "outputs": [],
   "source": [
    "x=x.reshape((1187,2))\n",
    "#print(x.shape)\n",
    "#print(len(y))"
   ]
  },
  {
   "cell_type": "markdown",
   "id": "230b7daa-723f-4b90-8e39-de97a8634e33",
   "metadata": {},
   "source": [
    "**Splitting the data for training and testing the model**"
   ]
  },
  {
   "cell_type": "code",
   "execution_count": 8,
   "id": "25d68498-6816-4c92-8727-3cb84d712724",
   "metadata": {},
   "outputs": [],
   "source": [
    "X_train, X_test, y_train, y_test = train_test_split(x, y, test_size=0.33, random_state=42)"
   ]
  },
  {
   "cell_type": "markdown",
   "id": "ef4c6e8f-3da0-42b1-95ac-ba733e0d7e69",
   "metadata": {},
   "source": [
    "# **Decision Tree Regressor Model**"
   ]
  },
  {
   "cell_type": "code",
   "execution_count": 9,
   "id": "dc984c97-1f12-4d6b-ae1b-3449497b0cd9",
   "metadata": {},
   "outputs": [
    {
     "name": "stdout",
     "output_type": "stream",
     "text": [
      "0.9947053564314239\n"
     ]
    }
   ],
   "source": [
    "from sklearn import tree\n",
    "clf = tree.DecisionTreeRegressor()\n",
    "clf = clf.fit(X_train, y_train)\n",
    "print(clf.score(X_test,y_test))"
   ]
  },
  {
   "cell_type": "code",
   "execution_count": 10,
   "id": "1378ef5f-54db-46cf-bb4a-f37d70ff9c67",
   "metadata": {},
   "outputs": [
    {
     "name": "stdout",
     "output_type": "stream",
     "text": [
      "0.9947053564314239\n",
      "0.980030986400413\n"
     ]
    }
   ],
   "source": [
    "#Make prediction on the test set\n",
    "pred = clf.predict(X_test)\n",
    "\n",
    "from sklearn.metrics import r2_score\n",
    "#https://scikit-learn.org/stable/modules/generated/sklearn.metrics.r2_score.html#sklearn.metrics.r2_score\n",
    "print(r2_score(y_test, pred))\n",
    "\n",
    "#https://scikit-learn.org/stable/modules/generated/sklearn.metrics.d2_absolute_error_score.html#sklearn.metrics.d2_absolute_error_score\n",
    "from sklearn.metrics import d2_absolute_error_score\n",
    "print(d2_absolute_error_score(y_test, pred))\n"
   ]
  },
  {
   "cell_type": "code",
   "execution_count": 11,
   "id": "b1a3a981-a4f1-45af-93aa-6129a95815dc",
   "metadata": {},
   "outputs": [
    {
     "name": "stdout",
     "output_type": "stream",
     "text": [
      "done DecisionTreeRegressor\n"
     ]
    }
   ],
   "source": [
    "result = clf.predict(x)\n",
    "#print(x.shape)\n",
    "sklz=[]\n",
    "rate=[]\n",
    "for i in range(x.shape[0]):\n",
    "    #print(i)\n",
    "\n",
    "    result = clf.predict(x[i,:].reshape(1,-1))[0]\n",
    "    temp=data2.loc[data2['skills_list_catogrised'] == x[i,-1]]\n",
    "\n",
    "    #print('name: ',temp['skills_list'].values[0],' rate: ',result)\n",
    "\n",
    "    sklz.append(temp['skills_list'].values[0])\n",
    "    rate.append(result)\n",
    "\n",
    "\n",
    "#print('++++++++++++++++++++++++++++++++')\n",
    "\n",
    "data3 = pd.DataFrame([sklz, rate]) # Each list would be added as a row\n",
    "data3 = data3.transpose() # To Transpose and make each rows as columns\n",
    "data3.columns = ['Skills', 'rate'] # Rename the columns\n",
    "\n",
    "\n",
    "data3 =data3.sort_values(by=['rate'])\n",
    "data3 =data3[::-1]\n",
    "#print(data3[0:give])\n",
    "data3=data3[0:give]\n",
    "\n",
    "data3.to_csv('files soft\\DecisionTreeRegressor_soft.csv')\n",
    "data3.to_excel('files soft\\DecisionTreeRegressor_soft.xlsx')\n",
    "\n",
    "#data3.to_csv('files hard\\DecisionTreeRegressor_hard.csv')\n",
    "#data3.to_excel('files hard\\DecisionTreeRegressor_hard.xlsx')\n",
    "\n",
    "exit()\n",
    "print(\"done DecisionTreeRegressor\") \n",
    "#print(type(result))\n",
    "#result.sort()\n",
    "#print('=============')\n",
    "#print(result[::-1])"
   ]
  },
  {
   "cell_type": "markdown",
   "id": "63631bb7-eec6-4616-8ac9-be3622447607",
   "metadata": {},
   "source": [
    "# **Linear Regression Model**"
   ]
  },
  {
   "cell_type": "code",
   "execution_count": 9,
   "id": "e02c68c4-b168-405c-a7f4-a574565b3b7c",
   "metadata": {},
   "outputs": [
    {
     "name": "stdout",
     "output_type": "stream",
     "text": [
      "1.0\n"
     ]
    }
   ],
   "source": [
    "from sklearn.linear_model import LinearRegression\n",
    "clf = LinearRegression()\n",
    "clf = clf.fit(X_train, y_train)\n",
    "print(clf.score(X_test,y_test))"
   ]
  },
  {
   "cell_type": "code",
   "execution_count": 10,
   "id": "18132266-6e10-495f-af18-25d61f6d2009",
   "metadata": {},
   "outputs": [
    {
     "name": "stdout",
     "output_type": "stream",
     "text": [
      "1.0\n",
      "0.999999999999999\n"
     ]
    }
   ],
   "source": [
    "#Make prediction on the test set\n",
    "pred = clf.predict(X_test)\n",
    "\n",
    "from sklearn.metrics import r2_score\n",
    "#https://scikit-learn.org/stable/modules/generated/sklearn.metrics.r2_score.html#sklearn.metrics.r2_score\n",
    "print(r2_score(y_test, pred))\n",
    "\n",
    "#https://scikit-learn.org/stable/modules/generated/sklearn.metrics.d2_absolute_error_score.html#sklearn.metrics.d2_absolute_error_score\n",
    "from sklearn.metrics import d2_absolute_error_score\n",
    "print(d2_absolute_error_score(y_test, pred))"
   ]
  },
  {
   "cell_type": "code",
   "execution_count": 11,
   "id": "983eafba-b6b0-4ce7-9aed-ff845938c1ad",
   "metadata": {},
   "outputs": [
    {
     "name": "stdout",
     "output_type": "stream",
     "text": [
      "done LinearRegression\n"
     ]
    }
   ],
   "source": [
    "result = clf.predict(x)\n",
    "#print(x.shape)\n",
    "sklz=[]\n",
    "rate=[]\n",
    "for i in range(x.shape[0]):\n",
    "    #print(i)\n",
    "    result = clf.predict(x[i,:].reshape(1,-1))[0]\n",
    "    temp=data2.loc[data2['skills_list_catogrised'] == x[i,-1]]\n",
    "    #print('name: ',temp['skills_list'].values[0],' rate: ',result)\n",
    "    sklz.append(temp['skills_list'].values[0])\n",
    "    rate.append(result)\n",
    "#print('++++++++++++++++++++++++++++++++')\n",
    "\n",
    "data3 = pd.DataFrame([sklz, rate]) # Each list would be added as a row\n",
    "data3 = data3.transpose() # To Transpose and make each rows as columns\n",
    "data3.columns = ['Skills', 'rate'] # Rename the columns\n",
    "\n",
    "data3 =data3.sort_values(by=['rate'])\n",
    "data3 =data3[::-1]\n",
    "#print(data3[0:give])\n",
    "data3=data3[0:give]\n",
    "\n",
    "data3.to_csv('files soft\\LinearRegression_soft.csv')\n",
    "data3.to_excel('files soft\\LinearRegression_soft.xlsx')\n",
    "\n",
    "\n",
    "#data3.to_csv('files hard\\LinearRegression_hard.csv')\n",
    "#data3.to_excel('files hard\\LinearRegression_hard.xlsx')\n",
    "\n",
    "exit()\n",
    "print(\"done LinearRegression\") \n",
    "#print(type(result))\n",
    "#result.sort()\n",
    "#print('=============')\n",
    "#print(result[::-1])"
   ]
  },
  {
   "cell_type": "markdown",
   "id": "ac53f20e-11ce-452f-80e9-8e12c75c9c32",
   "metadata": {},
   "source": [
    "# **Tweedie Regressor Model**"
   ]
  },
  {
   "cell_type": "code",
   "execution_count": 9,
   "id": "2089cdd2",
   "metadata": {},
   "outputs": [
    {
     "name": "stdout",
     "output_type": "stream",
     "text": [
      "0.9999999930707548\n"
     ]
    }
   ],
   "source": [
    "from sklearn.linear_model import TweedieRegressor\n",
    "clf = TweedieRegressor()\n",
    "clf = clf.fit(X_train, y_train)\n",
    "print(clf.score(X_test,y_test))"
   ]
  },
  {
   "cell_type": "code",
   "execution_count": 10,
   "id": "8f092095-6745-49a8-8cf5-8fb208433b43",
   "metadata": {},
   "outputs": [
    {
     "name": "stdout",
     "output_type": "stream",
     "text": [
      "0.9999999930707548\n",
      "0.9998788266870945\n"
     ]
    }
   ],
   "source": [
    "#Make prediction on the test set\n",
    "pred = clf.predict(X_test)\n",
    "\n",
    "from sklearn.metrics import r2_score\n",
    "#https://scikit-learn.org/stable/modules/generated/sklearn.metrics.r2_score.html#sklearn.metrics.r2_score\n",
    "print(r2_score(y_test, pred))\n",
    "\n",
    "#https://scikit-learn.org/stable/modules/generated/sklearn.metrics.d2_absolute_error_score.html#sklearn.metrics.d2_absolute_error_score\n",
    "from sklearn.metrics import d2_absolute_error_score\n",
    "print(d2_absolute_error_score(y_test, pred))\n"
   ]
  },
  {
   "cell_type": "code",
   "execution_count": 11,
   "id": "fffd5851-2335-4331-af32-2763f9503405",
   "metadata": {},
   "outputs": [
    {
     "name": "stdout",
     "output_type": "stream",
     "text": [
      "done TweedieRegressor\n"
     ]
    }
   ],
   "source": [
    "result = clf.predict(x)\n",
    "#print(x.shape)\n",
    "sklz=[]\n",
    "rate=[]\n",
    "for i in range(x.shape[0]):\n",
    "    #print(i)\n",
    "\n",
    "    result = clf.predict(x[i,:].reshape(1,-1))[0]\n",
    "    temp=data2.loc[data2['skills_list_catogrised'] == x[i,-1]]\n",
    "\n",
    "    #print('name: ',temp['skills_list'].values[0],' rate: ',result)\n",
    "\n",
    "    sklz.append(temp['skills_list'].values[0])\n",
    "    rate.append(result)\n",
    "\n",
    "\n",
    "#print('++++++++++++++++++++++++++++++++')\n",
    "\n",
    "data3 = pd.DataFrame([sklz, rate]) # Each list would be added as a row\n",
    "data3 = data3.transpose() # To Transpose and make each rows as columns\n",
    "data3.columns = ['Skills', 'rate'] # Rename the columns\n",
    "\n",
    "\n",
    "data3 =data3.sort_values(by=['rate'])\n",
    "data3 =data3[::-1]\n",
    "#print(data3[0:give])\n",
    "data3=data3[0:give]\n",
    "\n",
    "data3.to_csv('files soft\\TweedieRegressor_soft.csv')\n",
    "data3.to_excel('files soft\\TweedieRegressor_soft.xlsx')\n",
    "\n",
    "#data3.to_csv('files hard\\TweedieRegressor_hard.csv')\n",
    "#data3.to_excel('files hard\\TweedieRegressor_hard.xlsx')\n",
    "\n",
    "exit()\n",
    "print(\"done TweedieRegressor\") \n",
    "#print(type(result))\n",
    "#result.sort()\n",
    "#print('=============')\n",
    "#print(result[::-1])"
   ]
  },
  {
   "cell_type": "markdown",
   "id": "638b7260-87f7-4796-8b1b-bed6f1c24728",
   "metadata": {},
   "source": [
    "# **SVR Model**"
   ]
  },
  {
   "cell_type": "code",
   "execution_count": 14,
   "id": "79f9135d",
   "metadata": {},
   "outputs": [
    {
     "name": "stdout",
     "output_type": "stream",
     "text": [
      "-0.19773107017462577\n"
     ]
    }
   ],
   "source": [
    "from sklearn import svm\n",
    "clf = svm.SVR()\n",
    "clf = clf.fit(X_train, y_train)\n",
    "print(clf.score(X_test,y_test))"
   ]
  },
  {
   "cell_type": "code",
   "execution_count": 15,
   "id": "21d889f4-acc8-4358-a23f-38afa62fe5e8",
   "metadata": {},
   "outputs": [
    {
     "name": "stdout",
     "output_type": "stream",
     "text": [
      "-0.19773107017462577\n",
      "-1.3368585994577993\n"
     ]
    }
   ],
   "source": [
    "#Make prediction on the test set\n",
    "pred = clf.predict(X_test)\n",
    "\n",
    "from sklearn.metrics import r2_score\n",
    "#https://scikit-learn.org/stable/modules/generated/sklearn.metrics.r2_score.html#sklearn.metrics.r2_score\n",
    "print(r2_score(y_test, pred))\n",
    "\n",
    "#https://scikit-learn.org/stable/modules/generated/sklearn.metrics.d2_absolute_error_score.html#sklearn.metrics.d2_absolute_error_score\n",
    "from sklearn.metrics import d2_absolute_error_score\n",
    "print(d2_absolute_error_score(y_test, pred))"
   ]
  },
  {
   "cell_type": "code",
   "execution_count": 11,
   "id": "a4ad990d-26bb-4172-b724-6b0ee4059caf",
   "metadata": {},
   "outputs": [
    {
     "name": "stdout",
     "output_type": "stream",
     "text": [
      "done SVR\n"
     ]
    }
   ],
   "source": [
    "result = clf.predict(x)\n",
    "#print(x.shape)\n",
    "sklz=[]\n",
    "rate=[]\n",
    "for i in range(x.shape[0]):\n",
    "    #print(i)\n",
    "\n",
    "    result = clf.predict(x[i,:].reshape(1,-1))[0]\n",
    "    temp=data2.loc[data2['skills_list_catogrised'] == x[i,-1]]\n",
    "\n",
    "    #print('name: ',temp['skills_list'].values[0],' rate: ',result)\n",
    "\n",
    "    sklz.append(temp['skills_list'].values[0])\n",
    "    rate.append(result)\n",
    "\n",
    "\n",
    "#print('++++++++++++++++++++++++++++++++')\n",
    "\n",
    "data3 = pd.DataFrame([sklz, rate]) # Each list would be added as a row\n",
    "data3 = data3.transpose() # To Transpose and make each rows as columns\n",
    "data3.columns = ['Skills', 'rate'] # Rename the columns\n",
    "\n",
    "\n",
    "data3 =data3.sort_values(by=['rate'])\n",
    "data3 =data3[::-1]\n",
    "#print(data3[0:give])\n",
    "data3=data3[0:give]\n",
    "\n",
    "data3.to_csv('files soft\\SVR_soft.csv')\n",
    "data3.to_excel('files soft\\SVR_soft.xlsx')\n",
    "\n",
    "#data3.to_csv('files hard\\SVR_hard.csv')\n",
    "#data3.to_excel('files hard\\SVR_hard.xlsx')\n",
    "\n",
    "exit()\n",
    "print(\"done SVR\") \n",
    "#print(type(result))\n",
    "#result.sort()\n",
    "#print('=============')\n",
    "#print(result[::-1])"
   ]
  },
  {
   "cell_type": "markdown",
   "id": "141d101d-b732-4d3d-b770-766b77f61ea5",
   "metadata": {},
   "source": [
    "# **Lasso Lars Model**"
   ]
  },
  {
   "cell_type": "code",
   "execution_count": 9,
   "id": "834a57af",
   "metadata": {},
   "outputs": [
    {
     "name": "stdout",
     "output_type": "stream",
     "text": [
      "0.9980618466674541\n"
     ]
    }
   ],
   "source": [
    "from sklearn.linear_model import LassoLars\n",
    "clf = LassoLars()\n",
    "clf = clf.fit(X_train, y_train)\n",
    "print(clf.score(X_test,y_test))"
   ]
  },
  {
   "cell_type": "code",
   "execution_count": 10,
   "id": "5cd8f295-9e9e-4d4b-8f36-c89a3990dead",
   "metadata": {},
   "outputs": [
    {
     "name": "stdout",
     "output_type": "stream",
     "text": [
      "0.9980618466674541\n",
      "0.9365787832031255\n"
     ]
    }
   ],
   "source": [
    "#Make prediction on the test set\n",
    "pred = clf.predict(X_test)\n",
    "\n",
    "from sklearn.metrics import r2_score\n",
    "#https://scikit-learn.org/stable/modules/generated/sklearn.metrics.r2_score.html#sklearn.metrics.r2_score\n",
    "print(r2_score(y_test, pred))\n",
    "\n",
    "#https://scikit-learn.org/stable/modules/generated/sklearn.metrics.d2_absolute_error_score.html#sklearn.metrics.d2_absolute_error_score\n",
    "from sklearn.metrics import d2_absolute_error_score\n",
    "print(d2_absolute_error_score(y_test, pred))"
   ]
  },
  {
   "cell_type": "code",
   "execution_count": 11,
   "id": "cc935884-3729-4a54-a2c0-4f74f6e7cf60",
   "metadata": {},
   "outputs": [
    {
     "name": "stdout",
     "output_type": "stream",
     "text": [
      "done LassoLars\n"
     ]
    }
   ],
   "source": [
    "result = clf.predict(x)\n",
    "#print(x.shape)\n",
    "sklz=[]\n",
    "rate=[]\n",
    "for i in range(x.shape[0]):\n",
    "    #print(i)\n",
    "\n",
    "    result = clf.predict(x[i,:].reshape(1,-1))[0]\n",
    "    temp=data2.loc[data2['skills_list_catogrised'] == x[i,-1]]\n",
    "\n",
    "    #print('name: ',temp['skills_list'].values[0],' rate: ',result)\n",
    "\n",
    "    sklz.append(temp['skills_list'].values[0])\n",
    "    rate.append(result)\n",
    "\n",
    "\n",
    "#print('++++++++++++++++++++++++++++++++')\n",
    "\n",
    "data3 = pd.DataFrame([sklz, rate]) # Each list would be added as a row\n",
    "data3 = data3.transpose() # To Transpose and make each rows as columns\n",
    "data3.columns = ['Skills', 'rate'] # Rename the columns\n",
    "\n",
    "\n",
    "data3 =data3.sort_values(by=['rate'])\n",
    "data3 =data3[::-1]\n",
    "#print(data3[0:give])\n",
    "data3=data3[0:give]\n",
    "\n",
    "data3.to_csv('files soft\\LassoLars_soft.csv')\n",
    "data3.to_excel('files soft\\LassoLars_soft.xlsx')\n",
    "\n",
    "#data3.to_csv('files hard\\LassoLars_hard.csv')\n",
    "#data3.to_excel('files hard\\LassoLars_hard.xlsx')\n",
    "\n",
    "exit()\n",
    "print(\"done LassoLars\") \n",
    "#print(type(result))\n",
    "#result.sort()\n",
    "#print('=============')\n",
    "#print(result[::-1])"
   ]
  },
  {
   "cell_type": "markdown",
   "id": "73e7a4aa-864d-433a-b583-e06eac2e332c",
   "metadata": {},
   "source": [
    "# **Random Forest Regressor Model**"
   ]
  },
  {
   "cell_type": "code",
   "execution_count": 9,
   "id": "bd909efd-b52e-4975-8ba1-fdb77f61fdf6",
   "metadata": {},
   "outputs": [
    {
     "name": "stdout",
     "output_type": "stream",
     "text": [
      "0.9987148402859085\n"
     ]
    }
   ],
   "source": [
    "from sklearn.ensemble import RandomForestRegressor  \n",
    "clf = RandomForestRegressor()\n",
    "clf = clf.fit(X_train, y_train)\n",
    "print(clf.score(X_test,y_test))"
   ]
  },
  {
   "cell_type": "code",
   "execution_count": 10,
   "id": "b0ada56b-eff2-42eb-94a2-20edc054520e",
   "metadata": {},
   "outputs": [
    {
     "name": "stdout",
     "output_type": "stream",
     "text": [
      "0.9987148402859085\n",
      "0.9883146841108621\n"
     ]
    }
   ],
   "source": [
    "#Make prediction on the test set\n",
    "pred = clf.predict(X_test)\n",
    "\n",
    "from sklearn.metrics import r2_score\n",
    "#https://scikit-learn.org/stable/modules/generated/sklearn.metrics.r2_score.html#sklearn.metrics.r2_score\n",
    "print(r2_score(y_test, pred))\n",
    "\n",
    "#https://scikit-learn.org/stable/modules/generated/sklearn.metrics.d2_absolute_error_score.html#sklearn.metrics.d2_absolute_error_score\n",
    "from sklearn.metrics import d2_absolute_error_score\n",
    "print(d2_absolute_error_score(y_test, pred))"
   ]
  },
  {
   "cell_type": "code",
   "execution_count": 11,
   "id": "eeee69be-0c7e-4e43-a137-35d9af6b86da",
   "metadata": {},
   "outputs": [
    {
     "name": "stdout",
     "output_type": "stream",
     "text": [
      "done RandomForestRegressor\n"
     ]
    }
   ],
   "source": [
    "result = clf.predict(x)\n",
    "#print(x.shape)\n",
    "sklz=[]\n",
    "rate=[]\n",
    "for i in range(x.shape[0]):\n",
    "    #print(i)\n",
    "\n",
    "    result = clf.predict(x[i,:].reshape(1,-1))[0]\n",
    "    temp=data2.loc[data2['skills_list_catogrised'] == x[i,-1]]\n",
    "\n",
    "    #print('name: ',temp['skills_list'].values[0],' rate: ',result)\n",
    "\n",
    "    sklz.append(temp['skills_list'].values[0])\n",
    "    rate.append(result)\n",
    "\n",
    "\n",
    "#print('++++++++++++++++++++++++++++++++')\n",
    "\n",
    "data3 = pd.DataFrame([sklz, rate]) # Each list would be added as a row\n",
    "data3 = data3.transpose() # To Transpose and make each rows as columns\n",
    "data3.columns = ['Skills', 'rate'] # Rename the columns\n",
    "\n",
    "\n",
    "data3 =data3.sort_values(by=['rate'])\n",
    "data3 =data3[::-1]\n",
    "#print(data3[0:give])\n",
    "data3=data3[0:give]\n",
    "\n",
    "data3.to_csv('files soft\\RandomForestRegressor_soft.csv')\n",
    "data3.to_excel('files soft\\RandomForestRegressor_soft.xlsx')\n",
    "\n",
    "#data3.to_csv('files hard\\RandomForestRegressor_hard.csv')\n",
    "#data3.to_excel('files hard\\RandomForestRegressor_hard.xlsx')\n",
    "\n",
    "exit()\n",
    "print(\"done RandomForestRegressor\") \n",
    "#print(type(result))\n",
    "#result.sort()\n",
    "#print('=============')\n",
    "#print(result[::-1])"
   ]
  }
 ],
 "metadata": {
  "kernelspec": {
   "display_name": "Python 3 (ipykernel)",
   "language": "python",
   "name": "python3"
  },
  "language_info": {
   "codemirror_mode": {
    "name": "ipython",
    "version": 3
   },
   "file_extension": ".py",
   "mimetype": "text/x-python",
   "name": "python",
   "nbconvert_exporter": "python",
   "pygments_lexer": "ipython3",
   "version": "3.10.9"
  }
 },
 "nbformat": 4,
 "nbformat_minor": 5
}
